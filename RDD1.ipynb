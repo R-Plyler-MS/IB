{
 "cells": [
  {
   "cell_type": "code",
   "execution_count": 20,
   "metadata": {},
   "outputs": [],
   "source": [
    "from pyspark.sql import SparkSession\n",
    "from pyspark import SparkContext\n",
    "from pyspark.sql.functions import *\n"
   ]
  },
  {
   "cell_type": "code",
   "execution_count": 2,
   "metadata": {},
   "outputs": [],
   "source": [
    "spark=SparkSession.builder.appName('Dataframe').getOrCreate()"
   ]
  },
  {
   "cell_type": "code",
   "execution_count": 3,
   "metadata": {},
   "outputs": [
    {
     "data": {
      "text/html": [
       "\n",
       "            <div>\n",
       "                <p><b>SparkSession - in-memory</b></p>\n",
       "                \n",
       "        <div>\n",
       "            <p><b>SparkContext</b></p>\n",
       "\n",
       "            <p><a href=\"http://ML-RefVm-639429.o4kzperxrtjere1xbec2ne5kif.jx.internal.cloudapp.net:4040\">Spark UI</a></p>\n",
       "\n",
       "            <dl>\n",
       "              <dt>Version</dt>\n",
       "                <dd><code>v3.1.1</code></dd>\n",
       "              <dt>Master</dt>\n",
       "                <dd><code>local[*]</code></dd>\n",
       "              <dt>AppName</dt>\n",
       "                <dd><code>Dataframe</code></dd>\n",
       "            </dl>\n",
       "        </div>\n",
       "        \n",
       "            </div>\n",
       "        "
      ],
      "text/plain": [
       "<pyspark.sql.session.SparkSession at 0x237a1a522e0>"
      ]
     },
     "execution_count": 3,
     "metadata": {},
     "output_type": "execute_result"
    }
   ],
   "source": [
    "spark #this is reading in memory with one master node"
   ]
  },
  {
   "cell_type": "code",
   "execution_count": 4,
   "metadata": {},
   "outputs": [],
   "source": [
    "#read the dataset #Shift-Tab"
   ]
  },
  {
   "cell_type": "code",
   "execution_count": 5,
   "metadata": {},
   "outputs": [],
   "source": [
    "df=spark.read.option(\"header\",True).csv('KCLT.csv')\n",
    "df2=spark.read.option(\"header\",True).csv('KCQT.csv')\n",
    "df3=spark.read.option(\"header\",True).csv('KHOU.csv')\n",
    "df4=spark.read.option(\"header\",True).csv('KIND.csv')\n",
    "df5=spark.read.option(\"header\",True).csv('KJAX.csv')\n",
    "df6=spark.read.option(\"header\",True).csv('KMDW.csv')\n",
    "df7=spark.read.option(\"header\",True).csv('KNYC.csv')\n",
    "df8=spark.read.option(\"header\",True).csv('KPHL.csv')\n",
    "df9=spark.read.option(\"header\",True).csv('KPHX.csv')\n",
    "df10=spark.read.option(\"header\",True).csv('KSEA.csv')\n"
   ]
  },
  {
   "cell_type": "code",
   "execution_count": 6,
   "metadata": {},
   "outputs": [
    {
     "data": {
      "text/plain": [
       "pyspark.sql.dataframe.DataFrame"
      ]
     },
     "execution_count": 6,
     "metadata": {},
     "output_type": "execute_result"
    }
   ],
   "source": [
    "#type(df)\n",
    "type(df2)"
   ]
  },
  {
   "cell_type": "code",
   "execution_count": 7,
   "metadata": {},
   "outputs": [
    {
     "name": "stdout",
     "output_type": "stream",
     "text": [
      "root\n",
      " |-- date: string (nullable = true)\n",
      " |-- actual_mean_temp: string (nullable = true)\n",
      " |-- actual_min_temp: string (nullable = true)\n",
      " |-- actual_max_temp: string (nullable = true)\n",
      " |-- average_min_temp: string (nullable = true)\n",
      " |-- average_max_temp: string (nullable = true)\n",
      " |-- record_min_temp: string (nullable = true)\n",
      " |-- record_max_temp: string (nullable = true)\n",
      " |-- record_min_temp_year: string (nullable = true)\n",
      " |-- record_max_temp_year: string (nullable = true)\n",
      " |-- actual_precipitation: string (nullable = true)\n",
      " |-- average_precipitation: string (nullable = true)\n",
      " |-- record_precipitation: string (nullable = true)\n",
      "\n"
     ]
    }
   ],
   "source": [
    "df.printSchema()\n"
   ]
  },
  {
   "cell_type": "code",
   "execution_count": 8,
   "metadata": {},
   "outputs": [],
   "source": [
    "#df.show()\n",
    "#df.orderBy(\"date\")\n",
    "#df.select(F.date_format('date','yyyy-MM-dd').alias('day')).groupby('day').count().show()\n",
    "#from pyspark.sql import functions as F\n",
    "#df.select(F.date_format('date','yyyy-MM-dd').alias('week')).groupby('week').count().show()\n",
    "#df.write.options(header='True').csv(\"/tmp/resources/test1.csv\")\n",
    "#variableA.select(F.date_format('date','yyyy-MM-dd').alias('week')).groupby('week').count().show()\n",
    "#variableA = variableA.withColumn(\"Week\",col(\"actual_min_temp\")*0+1)\n",
    "#variableA = variableA.withColumn(\"Week\",variableA.Week.cast('integer'))\n",
    "#variableA = variableA.select(variableA.columns[:6])\n",
    "#variableA3 = variableA3.withColumn(\"date\",col(\"actual_min_temp\")*0+1)\n",
    "#limits the number of rows to the top\n",
    "#variableA = variableA.withColumn(\"Week\",\n",
    "#    when(variableA.date == '2014-7-1',\"week1\")\n",
    "#    .when(variableA.date == '2014-7-2',\"week1\")\n",
    "#    .when(variableA.date == '2014-7-3',\"week1\")\n",
    "#    .when(variableA.date == '2014-7-4',\"week1\")\n",
    "#    .when(variableA.date == '2014-7-5',\"week1\")\n",
    "#    .when(variableA.date == '2014-7-6',\"week1\")\n",
    "#    .when(variableA.date == '2014-7-7',\"week1\"))\n",
    "#limits the number of rows to the top\n",
    "#df7rows = variableA.limit(7).withColumn('Week', col(\"Week\"))\n",
    "#df7rows = df7rows.withColumn('Week',\n",
    "#    when(df7rows.Week == '1',\"week1\"))\n",
    "#df7rows = df7rows.sort(col(\"date\"))\n",
    "#variableB = variableA.select('date','actual_min_temp','actual_max_temp','average_min_temp','average_max_temp').subtract(df7rows.select('date','actual_min_temp','actual_max_temp','average_min_temp','average_max_temp'))\n",
    "#variableA = variableA.withColumn(\"Week\", when(variableA.date == \"2014-7-1\",\"week1\").otherwise(variableA.date))\n",
    "#variableB.show()"
   ]
  },
  {
   "cell_type": "code",
   "execution_count": 9,
   "metadata": {},
   "outputs": [],
   "source": [
    "from pyspark.sql import functions as F, Window\n",
    "from pyspark.sql import SparkSession, Row\n",
    "from pyspark.sql.functions import hour, mean, weekofyear\n",
    "\n",
    "def passA(x, dataframeVar):\n",
    "    if x == 1:\n",
    "        dataframeVar = df\n",
    "    if x == 2:\n",
    "        dataframeVar = df2\n",
    "    if x == 3:\n",
    "        dataframeVar = df3\n",
    "    if x == 4:\n",
    "        dataframeVar = df4\n",
    "    if x == 5:\n",
    "        dataframeVar = df5\n",
    "    if x == 6:\n",
    "        dataframeVar = df6\n",
    "    if x == 7:\n",
    "        dataframeVar = df7\n",
    "    if x == 8:\n",
    "        dataframeVar = df8\n",
    "    if x == 9:\n",
    "        dataframeVar = df9\n",
    "    if x == 10:\n",
    "        dataframeVar = df10\n",
    "    return(dataframeVar, x)\n",
    "\n",
    "def func1(dataframeVar):\n",
    "    variableA = dataframeVar.select('date','actual_min_temp','actual_max_temp','average_min_temp','average_max_temp')\n",
    "    variableA = variableA.withColumn(\"DayOfWeek\", dayofweek(col(\"date\")))\n",
    "    variableA = (variableA\n",
    "        .groupBy(weekofyear(\"date\"))\n",
    "        .agg(mean('actual_min_temp'),mean('actual_max_temp'),mean('average_min_temp'),mean('average_max_temp'))\n",
    "        .orderBy(weekofyear(\"date\"))\n",
    "    )\n",
    "    #variableA.coalesce(1).write.options(header='True').csv(\"C:/Users/dsvm_user/data/1KCLT.csv\")\n",
    "    return(variableA)\n",
    "\n"
   ]
  },
  {
   "cell_type": "code",
   "execution_count": 10,
   "metadata": {},
   "outputs": [],
   "source": [
    "\n",
    "dataframeVar = df\n",
    "variableA = dataframeVar.select('date','actual_min_temp','actual_max_temp','average_min_temp','average_max_temp')\n",
    "variableA = variableA.withColumn(\"DayOfWeek\", dayofweek(col(\"date\")))\n",
    "variableA = (variableA.groupBy(weekofyear(\"date\")).agg(mean('actual_min_temp'),mean('actual_max_temp'),mean('average_min_temp'),mean('average_max_temp')).orderBy(weekofyear(\"date\")))\n",
    "variableA.coalesce(1).write.options(header='True').csv(\"C:/Users/dsvm_user/data/KCLT_weekly.csv\")\n"
   ]
  },
  {
   "cell_type": "code",
   "execution_count": 11,
   "metadata": {},
   "outputs": [],
   "source": [
    "\n",
    "dataframeVar = df2\n",
    "variableA = dataframeVar.select('date','actual_min_temp','actual_max_temp','average_min_temp','average_max_temp')\n",
    "variableA = variableA.withColumn(\"DayOfWeek\", dayofweek(col(\"date\")))\n",
    "variableA = (variableA.groupBy(weekofyear(\"date\")).agg(mean('actual_min_temp'),mean('actual_max_temp'),mean('average_min_temp'),mean('average_max_temp')).orderBy(weekofyear(\"date\")))\n",
    "variableA.coalesce(1).write.options(header='True').csv(\"C:/Users/dsvm_user/data/KCQT_weekly.csv\")"
   ]
  },
  {
   "cell_type": "code",
   "execution_count": 12,
   "metadata": {},
   "outputs": [],
   "source": [
    "\n",
    "dataframeVar = df3\n",
    "variableA = dataframeVar.select('date','actual_min_temp','actual_max_temp','average_min_temp','average_max_temp')\n",
    "variableA = variableA.withColumn(\"DayOfWeek\", dayofweek(col(\"date\")))\n",
    "variableA = (variableA.groupBy(weekofyear(\"date\")).agg(mean('actual_min_temp'),mean('actual_max_temp'),mean('average_min_temp'),mean('average_max_temp')).orderBy(weekofyear(\"date\")))\n",
    "variableA.coalesce(1).write.options(header='True').csv(\"C:/Users/dsvm_user/data/KHOU_weekly.csv\")"
   ]
  },
  {
   "cell_type": "code",
   "execution_count": 13,
   "metadata": {},
   "outputs": [],
   "source": [
    "\n",
    "dataframeVar = df4\n",
    "variableA = dataframeVar.select('date','actual_min_temp','actual_max_temp','average_min_temp','average_max_temp')\n",
    "variableA = variableA.withColumn(\"DayOfWeek\", dayofweek(col(\"date\")))\n",
    "variableA = (variableA.groupBy(weekofyear(\"date\")).agg(mean('actual_min_temp'),mean('actual_max_temp'),mean('average_min_temp'),mean('average_max_temp')).orderBy(weekofyear(\"date\")))\n",
    "variableA.coalesce(1).write.options(header='True').csv(\"C:/Users/dsvm_user/data/KIND_weekly.csv\")"
   ]
  },
  {
   "cell_type": "code",
   "execution_count": 14,
   "metadata": {},
   "outputs": [],
   "source": [
    "\n",
    "dataframeVar = df5\n",
    "variableA = dataframeVar.select('date','actual_min_temp','actual_max_temp','average_min_temp','average_max_temp')\n",
    "variableA = variableA.withColumn(\"DayOfWeek\", dayofweek(col(\"date\")))\n",
    "variableA = (variableA.groupBy(weekofyear(\"date\")).agg(mean('actual_min_temp'),mean('actual_max_temp'),mean('average_min_temp'),mean('average_max_temp')).orderBy(weekofyear(\"date\")))\n",
    "variableA.coalesce(1).write.options(header='True').csv(\"C:/Users/dsvm_user/data/KJAX_weekly.csv\")"
   ]
  },
  {
   "cell_type": "code",
   "execution_count": 15,
   "metadata": {},
   "outputs": [],
   "source": [
    "\n",
    "dataframeVar = df6\n",
    "variableA = dataframeVar.select('date','actual_min_temp','actual_max_temp','average_min_temp','average_max_temp')\n",
    "variableA = variableA.withColumn(\"DayOfWeek\", dayofweek(col(\"date\")))\n",
    "variableA = (variableA.groupBy(weekofyear(\"date\")).agg(mean('actual_min_temp'),mean('actual_max_temp'),mean('average_min_temp'),mean('average_max_temp')).orderBy(weekofyear(\"date\")))\n",
    "variableA.coalesce(1).write.options(header='True').csv(\"C:/Users/dsvm_user/data/KMDW_weekly.csv\")"
   ]
  },
  {
   "cell_type": "code",
   "execution_count": 16,
   "metadata": {},
   "outputs": [],
   "source": [
    "\n",
    "dataframeVar = df7\n",
    "variableA = dataframeVar.select('date','actual_min_temp','actual_max_temp','average_min_temp','average_max_temp')\n",
    "variableA = variableA.withColumn(\"DayOfWeek\", dayofweek(col(\"date\")))\n",
    "variableA = (variableA.groupBy(weekofyear(\"date\")).agg(mean('actual_min_temp'),mean('actual_max_temp'),mean('average_min_temp'),mean('average_max_temp')).orderBy(weekofyear(\"date\")))\n",
    "variableA.coalesce(1).write.options(header='True').csv(\"C:/Users/dsvm_user/data/KNYC_weekly.csv\")"
   ]
  },
  {
   "cell_type": "code",
   "execution_count": 17,
   "metadata": {},
   "outputs": [],
   "source": [
    "\n",
    "dataframeVar = df8\n",
    "variableA = dataframeVar.select('date','actual_min_temp','actual_max_temp','average_min_temp','average_max_temp')\n",
    "variableA = variableA.withColumn(\"DayOfWeek\", dayofweek(col(\"date\")))\n",
    "variableA = (variableA.groupBy(weekofyear(\"date\")).agg(mean('actual_min_temp'),mean('actual_max_temp'),mean('average_min_temp'),mean('average_max_temp')).orderBy(weekofyear(\"date\")))\n",
    "variableA.coalesce(1).write.options(header='True').csv(\"C:/Users/dsvm_user/data/KPHL_weekly.csv\")"
   ]
  },
  {
   "cell_type": "code",
   "execution_count": 18,
   "metadata": {},
   "outputs": [],
   "source": [
    "\n",
    "dataframeVar = df9\n",
    "variableA = dataframeVar.select('date','actual_min_temp','actual_max_temp','average_min_temp','average_max_temp')\n",
    "variableA = variableA.withColumn(\"DayOfWeek\", dayofweek(col(\"date\")))\n",
    "variableA = (variableA.groupBy(weekofyear(\"date\")).agg(mean('actual_min_temp'),mean('actual_max_temp'),mean('average_min_temp'),mean('average_max_temp')).orderBy(weekofyear(\"date\")))\n",
    "variableA.coalesce(1).write.options(header='True').csv(\"C:/Users/dsvm_user/data/KPHX_weekly.csv\")"
   ]
  },
  {
   "cell_type": "code",
   "execution_count": 19,
   "metadata": {},
   "outputs": [],
   "source": [
    "\n",
    "dataframeVar = df10\n",
    "variableA = dataframeVar.select('date','actual_min_temp','actual_max_temp','average_min_temp','average_max_temp')\n",
    "variableA = variableA.withColumn(\"DayOfWeek\", dayofweek(col(\"date\")))\n",
    "variableA = (variableA.groupBy(weekofyear(\"date\")).agg(mean('actual_min_temp'),mean('actual_max_temp'),mean('average_min_temp'),mean('average_max_temp')).orderBy(weekofyear(\"date\")))\n",
    "variableA.coalesce(1).write.options(header='True').csv(\"C:/Users/dsvm_user/data/KSEA_weekly.csv\")\n"
   ]
  }
 ],
 "metadata": {
  "kernelspec": {
   "display_name": "Python 3 Spark - local",
   "language": "python",
   "name": "pyspark3"
  },
  "language_info": {
   "codemirror_mode": {
    "name": "ipython",
    "version": 3
   },
   "file_extension": ".py",
   "mimetype": "text/x-python",
   "name": "python",
   "nbconvert_exporter": "python",
   "pygments_lexer": "ipython3",
   "version": "3.8.5"
  }
 },
 "nbformat": 4,
 "nbformat_minor": 4
}
